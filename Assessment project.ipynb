{
 "cells": [
  {
   "cell_type": "markdown",
   "metadata": {},
   "source": [
    "# Enter your details in the cells below"
   ]
  },
  {
   "cell_type": "markdown",
   "metadata": {},
   "source": [
    "**Type your fullname here**:"
   ]
  },
  {
   "cell_type": "markdown",
   "metadata": {},
   "source": [
    "**Type your email here**:"
   ]
  },
  {
   "cell_type": "markdown",
   "metadata": {},
   "source": [
    "#  Project\n",
    "### Problem Statement\n",
    "\n",
    "In the year 2013, a supermarket decided to draw insight from their data in order to make data driven decisions.\n",
    "As a Data Analyst,you are presented with their 2013 daily sales records (sales_data.csv) and tasked to help them find answers to the questions below by analysing the data.\n",
    "\n",
    "1. i. What is the average sales and profit per market? \n",
    "\n",
    "   ii.Plot a stacked bar chart showing the sales and profit per market.\n",
    "   \n",
    "   iii.Which market brings more sales on the average?\n",
    "\n",
    "2. i. What are the best 10 performing products with regards to sales in 2013?\n",
    "\n",
    "   ii.What are the least 10 performing products with regards to sales 2013?\n",
    "\n",
    "\n",
    "3. i. Extract the days and months from the Order Date and add them to the data frame with the name \"Days\" and \"Months\" respectively?\n",
    "\n",
    "   ii.Show the trend of profit from January to December with a line plot.\n",
    "\n",
    "   iii. Which month does the company make more profit and what 5 products are sold most in that month?\n",
    "   iv.  which day does the company make high sales on the average?\n",
    "\n",
    "4. i. By analyzing the data, what is the correlation between sales and discount?\n",
    "\n",
    "   ii. Use a scatter plot to show the relationship between sales and profit.\n",
    "\n",
    "5. i. Plot a grouped bar chart showing the total profit for the different product category for each market.\n",
    "   ii. From your graph, which product category performs well in each market?\n",
    "   \n",
    "6. i. Which customer spent the most in the whole year?\n",
    "   ii. What product does the customer in (i) buy the most?\n",
    "   iii. Which month did the customer spent the most?\n",
    "   iv. How much did this customer spend in the whole year?\n",
    "   \n",
    "7. Can you do any other analysis to draw more insight? Feel free to do it.\n",
    "\n",
    "\n",
    "**Thank you**\n",
    "\n",
    "**GOOD LUCK!**\n",
    "\n",
    "\n",
    "\n"
   ]
  },
  {
   "cell_type": "code",
   "execution_count": null,
   "metadata": {},
   "outputs": [],
   "source": [
    "# Use markdowns to write your answers or findings where necessary.\n",
    "# Use comments to exlain you codes where necessary \n",
    "# Remember to import the necessary packages"
   ]
  },
  {
   "cell_type": "markdown",
   "metadata": {},
   "source": [
    "### **NB**: To easily load the data, it's advisable you have the data and the notebook file  in the same folder"
   ]
  },
  {
   "cell_type": "code",
   "execution_count": null,
   "metadata": {},
   "outputs": [],
   "source": [
    "#import your packages here\n",
    "\n"
   ]
  },
  {
   "cell_type": "code",
   "execution_count": null,
   "metadata": {},
   "outputs": [],
   "source": []
  },
  {
   "cell_type": "code",
   "execution_count": null,
   "metadata": {},
   "outputs": [],
   "source": [
    "# Load the sales data here\n",
    "\n"
   ]
  },
  {
   "cell_type": "code",
   "execution_count": null,
   "metadata": {},
   "outputs": [],
   "source": []
  }
 ],
 "metadata": {
  "kernelspec": {
   "display_name": "Python 3 (ipykernel)",
   "language": "python",
   "name": "python3"
  },
  "language_info": {
   "codemirror_mode": {
    "name": "ipython",
    "version": 3
   },
   "file_extension": ".py",
   "mimetype": "text/x-python",
   "name": "python",
   "nbconvert_exporter": "python",
   "pygments_lexer": "ipython3",
   "version": "3.9.7"
  }
 },
 "nbformat": 4,
 "nbformat_minor": 4
}
