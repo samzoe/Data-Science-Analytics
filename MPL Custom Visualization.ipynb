{
 "cells": [
  {
   "cell_type": "code",
   "execution_count": 1,
   "id": "0a3cd816",
   "metadata": {},
   "outputs": [],
   "source": [
    "import pandas as pd\n",
    "import numpy as np\n",
    "\n",
    "np.random.seed(12345)\n",
    "\n",
    "df = pd.DataFrame([np.random.normal(32000,200000,3650), \n",
    "                   np.random.normal(43000,100000,3650), \n",
    "                   np.random.normal(43500,140000,3650), \n",
    "                   np.random.normal(48000,70000,3650)], \n",
    "                  index=[1992,1993,1994,1995])\n"
   ]
  },
  {
   "cell_type": "code",
   "execution_count": 2,
   "id": "5e04e391",
   "metadata": {},
   "outputs": [],
   "source": [
    "df = df.transpose()"
   ]
  },
  {
   "cell_type": "code",
   "execution_count": 3,
   "id": "273d596d",
   "metadata": {},
   "outputs": [],
   "source": [
    "# calculating 95% CI for each year, Z-value 1.96\n",
    "import math\n",
    "\n",
    "mean = list(df.mean())\n",
    "std = list(df.std())\n",
    "CI = []\n",
    "for i in range (4) :\n",
    "    CI.append(1.96*(std[i]/math.sqrt(len(df))))\n",
    "    "
   ]
  },
  {
   "cell_type": "code",
   "execution_count": 4,
   "id": "e18dd3a8",
   "metadata": {},
   "outputs": [
    {
     "data": {
      "text/html": [
       "<div>\n",
       "<style scoped>\n",
       "    .dataframe tbody tr th:only-of-type {\n",
       "        vertical-align: middle;\n",
       "    }\n",
       "\n",
       "    .dataframe tbody tr th {\n",
       "        vertical-align: top;\n",
       "    }\n",
       "\n",
       "    .dataframe thead th {\n",
       "        text-align: right;\n",
       "    }\n",
       "</style>\n",
       "<table border=\"1\" class=\"dataframe\">\n",
       "  <thead>\n",
       "    <tr style=\"text-align: right;\">\n",
       "      <th></th>\n",
       "      <th>difference</th>\n",
       "      <th>sign</th>\n",
       "      <th>shade</th>\n",
       "    </tr>\n",
       "  </thead>\n",
       "  <tbody>\n",
       "    <tr>\n",
       "      <th>1992</th>\n",
       "      <td>6100.0</td>\n",
       "      <td>1.0</td>\n",
       "      <td>0.867470</td>\n",
       "    </tr>\n",
       "    <tr>\n",
       "      <th>1993</th>\n",
       "      <td>-2400.0</td>\n",
       "      <td>-1.0</td>\n",
       "      <td>-0.644578</td>\n",
       "    </tr>\n",
       "    <tr>\n",
       "      <th>1994</th>\n",
       "      <td>0.0</td>\n",
       "      <td>NaN</td>\n",
       "      <td>NaN</td>\n",
       "    </tr>\n",
       "    <tr>\n",
       "      <th>1995</th>\n",
       "      <td>-8300.0</td>\n",
       "      <td>-1.0</td>\n",
       "      <td>-1.000000</td>\n",
       "    </tr>\n",
       "  </tbody>\n",
       "</table>\n",
       "</div>"
      ],
      "text/plain": [
       "      difference  sign     shade\n",
       "1992      6100.0   1.0  0.867470\n",
       "1993     -2400.0  -1.0 -0.644578\n",
       "1994         0.0   NaN       NaN\n",
       "1995     -8300.0  -1.0 -1.000000"
      ]
     },
     "execution_count": 4,
     "metadata": {},
     "output_type": "execute_result"
    }
   ],
   "source": [
    "nearest_value = 100\n",
    "Y = 39500\n",
    "df1= pd.DataFrame()\n",
    "\n",
    "df1['difference'] = nearest_value*((Y - df.mean())//nearest_value)\n",
    "\n",
    "df1['sign'] = df1['difference'].abs()/df1['difference']\n",
    "\n",
    "old_range = abs(df1['difference']).min(), df1['difference'].abs().max()\n",
    "\n",
    "new_range = .5,1\n",
    "\n",
    "df1['shade'] = df1['sign']*np.interp(df1['difference'].abs(), old_range, new_range)\n",
    "\n",
    "df1"
   ]
  },
  {
   "cell_type": "code",
   "execution_count": 5,
   "id": "eb9d03a4",
   "metadata": {},
   "outputs": [],
   "source": [
    "# changing color of the bars with respect to Y\n",
    "\n",
    "\n",
    "shade = list(df1['shade'])\n",
    "from matplotlib import cm\n",
    "blues = cm.Blues\n",
    "reds = cm.Reds\n",
    "# using shades blues when diff is pos\n",
    "# using Reds when when diff is neg\n",
    "\n",
    "\n",
    "color = ['White' if  x == 0 else reds(abs(x))\n",
    "         if x<0 else blues(abs(x)) for x in shade]"
   ]
  },
  {
   "cell_type": "code",
   "execution_count": 9,
   "id": "ad9c49f2",
   "metadata": {},
   "outputs": [
    {
     "data": {
      "image/png": "[encoded data removed]",
      "text/plain": [
       "<Figure size 480x480 with 1 Axes>"
      ]
     },
     "metadata": {},
     "output_type": "display_data"
    }
   ],
   "source": [
    "import matplotlib.pyplot as plt\n",
    "\n",
    "%matplotlib inline\n",
    "\n",
    "plt.figure(num=None, figsize=(6, 6), dpi=80, facecolor='w', edgecolor='k')\n",
    "\n",
    "plt.bar(range(len(df.columns)), height = df.values.mean(axis = 0), \n",
    "        yerr=CI, error_kw={'capsize': 10, 'elinewidth': 2, 'alpha':0.7}, color = color)\n",
    "\n",
    "plt.axhline(y=Y, color = 'black', label = 'Y')\n",
    "\n",
    "plt.text(3.5, 40000, \"39500\")\n",
    "\n",
    "plt.xticks(range(len(df.columns)), df.columns)\n",
    "\n",
    "plt.title('Generated Random Normal Data Between 1992 - 95')\n",
    "\n",
    "# remove all the ticks (both axes), and tick labels on the Y axis\n",
    "# plt.tick_params(top='off', bottom='off',  right='on', labelbottom='on',left ='off')\n",
    "\n",
    "#removing frames\n",
    "ax = plt.gca()\n",
    "ax.spines['top'].set_visible(False)\n",
    "ax.spines['right'].set_visible(False)\n",
    "plt.savefig(\"\")"
   ]
  },
  {
   "cell_type": "code",
   "execution_count": null,
   "id": "0e40dc3e",
   "metadata": {},
   "outputs": [],
   "source": []
  }
 ],
 "metadata": {
  "kernelspec": {
   "display_name": "Python 3",
   "language": "python",
   "name": "python3"
  },
  "language_info": {
   "codemirror_mode": {
    "name": "ipython",
    "version": 3
   },
   "file_extension": ".py",
   "mimetype": "text/x-python",
   "name": "python",
   "nbconvert_exporter": "python",
   "pygments_lexer": "ipython3",
   "version": "3.9.4"
  }
 },
 "nbformat": 4,
 "nbformat_minor": 5
}
